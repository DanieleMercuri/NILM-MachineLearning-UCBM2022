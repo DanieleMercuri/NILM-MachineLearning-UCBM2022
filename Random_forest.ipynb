{
 "cells": [
  {
   "cell_type": "code",
   "execution_count": 1,
   "metadata": {},
   "outputs": [
    {
     "name": "stderr",
     "output_type": "stream",
     "text": [
      "C:\\Users\\danie\\AppData\\Local\\Temp\\ipykernel_6516\\1430184262.py:5: MatplotlibDeprecationWarning: The seaborn styles shipped by Matplotlib are deprecated since 3.6, as they no longer correspond to the styles shipped by seaborn. However, they will remain available as 'seaborn-v0_8-<style>'. Alternatively, directly use the seaborn API instead.\n",
      "  plt.style.use('seaborn')\n"
     ]
    }
   ],
   "source": [
    "import pandas as pd\n",
    "from sklearn.metrics import classification_report, confusion_matrix, classification_report, f1_score, recall_score\n",
    "import matplotlib.pyplot as plt\n",
    "import seaborn as sns\n",
    "plt.style.use('seaborn')\n",
    "\n",
    "data = pd.read_csv('Data/25day_dataset.csv')\n"
   ]
  },
  {
   "cell_type": "markdown",
   "metadata": {},
   "source": [
    "Si etichetta il dataset con 4 classi:\n",
    "\n",
    "    1) Tutti spenti [0]\n",
    "    2) Solo lavatrice accesa [1]\n",
    "    3) Solo lavastoviglie accesa [2]\n",
    "    4) Solo forno acceso [3]"
   ]
  },
  {
   "cell_type": "code",
   "execution_count": 2,
   "metadata": {},
   "outputs": [],
   "source": [
    "label = []\n",
    "for i in range(len(data)):\n",
    "    if data['wahing_machine'].iloc[i]==0 and data['dishwasher'].iloc[i]==0 and data['oven'].iloc[i]==0:\n",
    "        label.append(0)\n",
    "    elif data['wahing_machine'].iloc[i]>0:\n",
    "        label.append(1)\n",
    "    elif data['dishwasher'].iloc[i]>0:\n",
    "        label.append(2)\n",
    "    elif data['oven'].iloc[i]>0:\n",
    "        label.append(3)\n",
    "data['Class'] = label"
   ]
  },
  {
   "cell_type": "code",
   "execution_count": 3,
   "metadata": {},
   "outputs": [],
   "source": [
    "#Droppa le colonne che non servono piu \n",
    "data.drop(['wahing_machine', 'dishwasher', 'oven'], axis=1, inplace=True)"
   ]
  },
  {
   "cell_type": "markdown",
   "metadata": {},
   "source": [
    "di seguito le istruzioni fronite per effettuare il corretto folding:\n",
    "\n",
    "Test set fold 01: \n",
    "Tutte le misure del giorno 2022-01-01\n",
    "\n",
    "\n",
    "Test set fold 02: \n",
    "Tutte le misure del giorno 2022-01-02\n",
    "\n",
    "Test set fold 03: \n",
    "Tutte le misure del giorno 2022-01-03\n",
    "\n",
    "…..\n",
    "\n",
    "\n",
    "Test set fold 09: \n",
    "Tutte le misure del giorno 2022-01-10\n",
    "Tutte le misure del giorno 2022-01-11\n",
    "\n",
    "Test set fold 10: \n",
    "Tutte le misure del giorno 2022-01-12\n",
    "Tutte le misure del giorno 2022-01-13 (dati disponibili fino alle 03:16)\n"
   ]
  },
  {
   "cell_type": "code",
   "execution_count": 4,
   "metadata": {},
   "outputs": [],
   "source": [
    "test_set_list=[]\n",
    "Test_set1 =data[data['DateTime'].str.startswith('2022-01-01')]\n",
    "Test_set2 =data[data['DateTime'].str.startswith('2022-01-02')]\n",
    "Test_set3 =data[data['DateTime'].str.startswith('2022-01-03')]\n",
    "Test_set4 =data[data['DateTime'].str.startswith('2022-01-04')]\n",
    "Test_set5 =data[data['DateTime'].str.startswith('2022-01-05')]\n",
    "Test_set6 =data[data['DateTime'].str.startswith('2022-01-06')]\n",
    "Test_set7 =data[data['DateTime'].str.startswith('2022-01-07')]\n",
    "Test_set8 =data[(data['DateTime'].str.startswith('2022-01-08')) | (data['DateTime'].str.startswith('2022-01-09'))]\n",
    "Test_set9 =data[(data['DateTime'].str.startswith('2022-01-10')) | (data['DateTime'].str.startswith('2022-01-11'))]\n",
    "Test_set10 =data[(data['DateTime'].str.startswith('2022-01-12')) | (data['DateTime'].str.startswith('2022-01-13'))]"
   ]
  },
  {
   "cell_type": "code",
   "execution_count": 7,
   "metadata": {},
   "outputs": [
    {
     "name": "stderr",
     "output_type": "stream",
     "text": [
      "C:\\Users\\danie\\AppData\\Local\\Temp\\ipykernel_6516\\1407526483.py:2: FutureWarning: The frame.append method is deprecated and will be removed from pandas in a future version. Use pandas.concat instead.\n",
      "  Test_set=Test_set1.append([Test_set2,Test_set3,Test_set4,Test_set5,Test_set6,Test_set7,Test_set8,Test_set9,Test_set10])\n"
     ]
    }
   ],
   "source": [
    "test_set_list= [Test_set1, Test_set2, Test_set3, Test_set4, Test_set5, Test_set6, Test_set7, Test_set8, Test_set9, Test_set10]\n",
    "Test_set=Test_set1.append([Test_set2,Test_set3,Test_set4,Test_set5,Test_set6,Test_set7,Test_set8,Test_set9,Test_set10])\n",
    "Training_set= data.drop(Test_set.index, axis=0)"
   ]
  },
  {
   "cell_type": "code",
   "execution_count": 8,
   "metadata": {},
   "outputs": [],
   "source": [
    "from sklearn.model_selection import train_test_split\n",
    "X_train, X_val, y_train, y_val = train_test_split(Training_set.drop(['DateTime', 'Class'], axis=1), Training_set.Class, test_size=0.025, random_state= 8) "
   ]
  },
  {
   "cell_type": "markdown",
   "metadata": {},
   "source": [
    "Validation per settare i parametri ottimali della random forest"
   ]
  },
  {
   "cell_type": "code",
   "execution_count": 20,
   "metadata": {},
   "outputs": [
    {
     "data": {
      "text/plain": [
       "{'criterion': 'entropy', 'min_samples_leaf': 50, 'n_estimators': 100}"
      ]
     },
     "execution_count": 20,
     "metadata": {},
     "output_type": "execute_result"
    }
   ],
   "source": [
    "# validation\n",
    "from sklearn.model_selection import GridSearchCV\n",
    "from sklearn.ensemble import RandomForestClassifier\n",
    "\n",
    "rfc=RandomForestClassifier(random_state=42)\n",
    "param_grid = { \n",
    "    'n_estimators': [100, 300, 500],\n",
    "    'min_samples_leaf': [50, 100, 150],\n",
    "    'criterion' : ['gini', 'entropy', 'log_loss']\n",
    "}\n",
    "CV_rfc = GridSearchCV(estimator=rfc, param_grid=param_grid, cv= 5)\n",
    "CV_rfc.fit(X_val, y_val)\n",
    "CV_rfc.best_params_"
   ]
  },
  {
   "cell_type": "markdown",
   "metadata": {},
   "source": [
    "Undersampling"
   ]
  },
  {
   "cell_type": "code",
   "execution_count": 22,
   "metadata": {},
   "outputs": [
    {
     "name": "stdout",
     "output_type": "stream",
     "text": [
      "Counter({0: 952378, 1: 41140, 2: 13344, 3: 4018}) 1010880\n",
      "Counter({0: 341498, 1: 41140, 2: 13344, 3: 4018}) 400000\n"
     ]
    }
   ],
   "source": [
    "from imblearn.under_sampling  import RandomUnderSampler\n",
    "from collections import Counter\n",
    "print(Counter(y_train), y_train.count())\n",
    "n= 400000 - (y_train.values == 1).sum() - (y_train.values == 3).sum() - (y_train.values == 2).sum()\n",
    "undersample = RandomUnderSampler(sampling_strategy={0: n, 1: (y_train.values == 1).sum(), 2: (y_train.values == 2).sum(), 3: (y_train.values == 3).sum()})\n",
    "X_new, y_new = undersample.fit_resample(X_train, y_train)\n",
    "print(Counter(y_new), y_new.count())"
   ]
  },
  {
   "cell_type": "markdown",
   "metadata": {},
   "source": [
    "Training"
   ]
  },
  {
   "cell_type": "code",
   "execution_count": 26,
   "metadata": {},
   "outputs": [
    {
     "name": "stdout",
     "output_type": "stream",
     "text": [
      "CM:\n",
      "[[1055382    2402      92      91]\n",
      " [   4294   31437       1       0]\n",
      " [   4378     110   10162       1]\n",
      " [   3533     798       2   10517]]\n",
      "\n",
      "              precision    recall  f1-score   support\n",
      "\n",
      "           0       0.99      1.00      0.99   1057967\n",
      "           1       0.90      0.88      0.89     35732\n",
      "           2       0.99      0.69      0.82     14651\n",
      "           3       0.99      0.71      0.83     14850\n",
      "\n",
      "    accuracy                           0.99   1123200\n",
      "   macro avg       0.97      0.82      0.88   1123200\n",
      "weighted avg       0.99      0.99      0.99   1123200\n",
      "\n"
     ]
    }
   ],
   "source": [
    "#random froset:\n",
    "from sklearn.ensemble import RandomForestClassifier\n",
    "clf = RandomForestClassifier(n_estimators=100, criterion='entropy', min_samples_leaf=50)\n",
    "clf.fit(X_new, y_new)\n",
    "y_preds= clf.predict(Test_set.drop(['DateTime', 'Class'], axis=1))\n",
    "\n",
    "print(\"CM:\\n\" + str(confusion_matrix(Test_set.Class,y_preds)) + \"\\n\")\n",
    "print(classification_report(Test_set.Class,y_preds))"
   ]
  },
  {
   "cell_type": "code",
   "execution_count": 17,
   "metadata": {},
   "outputs": [
    {
     "name": "stdout",
     "output_type": "stream",
     "text": [
      "CM:\n",
      "[[66047 13568  1449    31]\n",
      " [  130   892     0     2]\n",
      " [  843   131  2603     0]\n",
      " [    1   641     1    61]]\n",
      "\n",
      "              precision    recall  f1-score   support\n",
      "\n",
      "           0       0.99      0.81      0.89     81095\n",
      "           1       0.06      0.87      0.11      1024\n",
      "           2       0.64      0.73      0.68      3577\n",
      "           3       0.65      0.09      0.15       704\n",
      "\n",
      "    accuracy                           0.81     86400\n",
      "   macro avg       0.58      0.62      0.46     86400\n",
      "weighted avg       0.96      0.81      0.87     86400\n",
      "\n"
     ]
    }
   ],
   "source": [
    "# ensamble di alberi decisionali one vs one\n",
    "from sklearn.multiclass import OneVsOneClassifier\n",
    "from sklearn import tree\n",
    "\n",
    "Training_set= data.drop(Test_set.index, axis=0)\n",
    "\n",
    "model = tree.DecisionTreeClassifier()\n",
    "ovo = OneVsOneClassifier(model)\n",
    "ovo.fit(X_new, y_new)\n",
    "predicted = ovo.predict(Test_set.drop(['DateTime', 'Class'], axis=1))\n",
    "\n",
    "print(\"CM:\\n\" + str(confusion_matrix(Test_set.Class,predicted)) + \"\\n\")\n",
    "print(classification_report(Test_set.Class,predicted))"
   ]
  }
 ],
 "metadata": {
  "kernelspec": {
   "display_name": "Python 3 (ipykernel)",
   "language": "python",
   "name": "python3"
  },
  "language_info": {
   "codemirror_mode": {
    "name": "ipython",
    "version": 3
   },
   "file_extension": ".py",
   "mimetype": "text/x-python",
   "name": "python",
   "nbconvert_exporter": "python",
   "pygments_lexer": "ipython3",
   "version": "3.9.13"
  },
  "vscode": {
   "interpreter": {
    "hash": "47e3f425e1f5e080840b02324288bfe2474c53b4d8fc90d3d863797934e6a5da"
   }
  }
 },
 "nbformat": 4,
 "nbformat_minor": 2
}
