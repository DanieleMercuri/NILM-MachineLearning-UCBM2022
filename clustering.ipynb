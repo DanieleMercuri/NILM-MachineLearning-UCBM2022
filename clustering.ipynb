{
 "cells": [
  {
   "cell_type": "code",
   "execution_count": 3,
   "id": "b057ffb7",
   "metadata": {},
   "outputs": [],
   "source": [
    "import numpy as np\n",
    "import pandas as pd\n",
    "import math\n",
    "import matplotlib.pyplot as plt\n",
    "from sklearn.datasets import make_classification\n",
    "from sklearn.model_selection import cross_val_score\n",
    "from sklearn.metrics import classification_report, confusion_matrix, classification_report, f1_score, recall_score\n",
    "from sklearn.cluster import KMeans\n",
    "from sklearn import decomposition\n",
    "from sklearn.preprocessing import StandardScaler\n",
    "from imblearn.under_sampling import RandomUnderSampler\n",
    "from sklearn.ensemble import RandomForestClassifier"
   ]
  },
  {
   "cell_type": "code",
   "execution_count": 4,
   "id": "0cd207f8",
   "metadata": {},
   "outputs": [],
   "source": [
    "data = pd.read_csv('Data/25day_dataset.csv')"
   ]
  },
  {
   "cell_type": "code",
   "execution_count": 5,
   "id": "7c1d7a4a",
   "metadata": {},
   "outputs": [],
   "source": [
    "label = []\n",
    "for i in range(len(data)):\n",
    "    if data['wahing_machine'].iloc[i]==0 and data['dishwasher'].iloc[i]==0 and data['oven'].iloc[i]==0:\n",
    "        label.append(0)\n",
    "    elif data['wahing_machine'].iloc[i]>0:\n",
    "        label.append(1)\n",
    "    elif data['dishwasher'].iloc[i]>0:\n",
    "        label.append(2)\n",
    "    elif data['oven'].iloc[i]>0:\n",
    "        label.append(3)\n",
    "data['Class'] = label"
   ]
  },
  {
   "cell_type": "markdown",
   "id": "f315f754",
   "metadata": {},
   "source": [
    "KMeans: Funzioni per il calcolo ottimale del numero di Cluster da utilizzare e per il plot del metodo del gomito "
   ]
  },
  {
   "cell_type": "code",
   "execution_count": 267,
   "id": "eeea29bd",
   "metadata": {},
   "outputs": [
    {
     "data": {
      "image/png": "[encoded data removed]",
      "text/plain": [
       "<Figure size 432x288 with 1 Axes>"
      ]
     },
     "metadata": {
      "needs_background": "light"
     },
     "output_type": "display_data"
    }
   ],
   "source": [
    "def KMeans_cluster_number(data, test_set_list):\n",
    "    Sum_of_squared_distances = []\n",
    "    K = range(1,10)\n",
    "    for k in K:\n",
    "        km = KMeans(n_clusters=k)\n",
    "        km = km.fit(data)\n",
    "        Sum_of_squared_distances.append(km.inertia_)\n",
    "        \n",
    "    plt.plot(K, Sum_of_squared_distances, 'bx-')\n",
    "    plt.xlabel('k')\n",
    "    plt.ylabel('Sum_of_squared_distances')\n",
    "    plt.title('Elbow Method For Optimal k')\n",
    "    plt.show()\n",
    "KMeans_cluster_number(data, test_set_list)"
   ]
  },
  {
   "cell_type": "markdown",
   "id": "768f619f",
   "metadata": {},
   "source": [
    "Funzione per l'aggiunta delle etichette del relativo cluster e la distanza dai centroidi degli altri cluster come feature aggiuntive. Il numero di cluster ottimale è rappresentato dal gomito nel grafico precedente"
   ]
  },
  {
   "cell_type": "code",
   "execution_count": 6,
   "id": "b2d19442",
   "metadata": {},
   "outputs": [],
   "source": [
    "def add_Clustering_labels(k, data):\n",
    "    X = data.drop(['DateTime', 'Class', 'wahing_machine', 'dishwasher', 'oven'], axis=1)\n",
    "    kmeans = KMeans(n_clusters=k)\n",
    "    X[\"Cluster\"] = kmeans.fit_predict(X)\n",
    "    X[\"Cluster\"] = X[\"Cluster\"].astype('category')\n",
    "    X_cd = kmeans.fit_transform(X)\n",
    "    X_cd = pd.DataFrame(X_cd, columns=[f\"Centroid_{i}\" for i in range(X_cd.shape[1])])\n",
    "    X = pd.concat([X, X_cd], axis=1)\n",
    "    data['Cluster']= X.Cluster\n",
    "    for col in X_cd:\n",
    "        data[f'{col}']= X_cd[col]  \n",
    "add_Clustering_labels(2, data)"
   ]
  },
  {
   "cell_type": "code",
   "execution_count": 7,
   "id": "f0f590f7",
   "metadata": {},
   "outputs": [],
   "source": [
    "Test_set1 =data[data['DateTime'].str.startswith('2022-01-01')]\n",
    "Test_set2 =data[data['DateTime'].str.startswith('2022-01-02')]\n",
    "Test_set3 =data[data['DateTime'].str.startswith('2022-01-03')]\n",
    "Test_set4 =data[data['DateTime'].str.startswith('2022-01-04')]\n",
    "Test_set5 =data[data['DateTime'].str.startswith('2022-01-05')]\n",
    "Test_set6 =data[data['DateTime'].str.startswith('2022-01-06')]\n",
    "Test_set7 =data[data['DateTime'].str.startswith('2022-01-07')]\n",
    "Test_set8 =data[(data['DateTime'].str.startswith('2022-01-08')) | (data['DateTime'].str.startswith('2022-01-09'))]\n",
    "Test_set9 =data[(data['DateTime'].str.startswith('2022-01-10')) | (data['DateTime'].str.startswith('2022-01-11'))]\n",
    "Test_set10 =data[(data['DateTime'].str.startswith('2022-01-12')) | (data['DateTime'].str.startswith('2022-01-13'))]\n",
    "test_set_list= [Test_set1, Test_set2, Test_set3, Test_set4, Test_set5, Test_set6, Test_set7, Test_set8, Test_set9, Test_set10]"
   ]
  },
  {
   "cell_type": "code",
   "execution_count": 8,
   "id": "abbce57f",
   "metadata": {},
   "outputs": [],
   "source": [
    "def create_Training_set(data, test_set_list):\n",
    "    Training_set = data.copy()\n",
    "    for i in range(len(test_set_list)):\n",
    "        Training_set.drop(test_set_list[i].index, axis=0, inplace=True)\n",
    "    return Training_set"
   ]
  },
  {
   "cell_type": "code",
   "execution_count": 9,
   "id": "f911cedc",
   "metadata": {},
   "outputs": [],
   "source": [
    "df = create_Training_set(data, test_set_list)\n",
    "X = df.drop(['DateTime', 'Class', 'wahing_machine', 'dishwasher', 'oven'], axis=1)\n",
    "y = df.Class"
   ]
  },
  {
   "cell_type": "markdown",
   "id": "c23d206c",
   "metadata": {},
   "source": [
    "Funizone per il training (esterno con le nuove etichette aggiunte con il clustering) del modello \n",
    "che poi viene testato su tutte le fol"
   ]
  },
  {
   "cell_type": "code",
   "execution_count": 10,
   "id": "3d3b805c",
   "metadata": {},
   "outputs": [
    {
     "name": "stdout",
     "output_type": "stream",
     "text": [
      "CM:\n",
      "[[78963     0     0     0]\n",
      " [    0  5795     0     0]\n",
      " [    0     0  1100     0]\n",
      " [    0     0     0   542]]\n",
      "\n",
      "              precision    recall  f1-score   support\n",
      "\n",
      "           0       1.00      0.96      0.98     81665\n",
      "           1       0.69      0.98      0.81      4053\n",
      "           2       0.00      0.00      0.00         0\n",
      "           3       0.99      0.79      0.88       682\n",
      "\n",
      "    accuracy                           0.96     86400\n",
      "   macro avg       0.67      0.68      0.67     86400\n",
      "weighted avg       0.98      0.96      0.97     86400\n",
      "\n",
      "CM:\n",
      "[[76163     0     0     0]\n",
      " [    0  8220     0     0]\n",
      " [    0     0   510     0]\n",
      " [    0     0     0  1507]]\n",
      "\n"
     ]
    },
    {
     "name": "stderr",
     "output_type": "stream",
     "text": [
      "C:\\Users\\massi\\anaconda3\\lib\\site-packages\\sklearn\\metrics\\_classification.py:1318: UndefinedMetricWarning: Recall and F-score are ill-defined and being set to 0.0 in labels with no true samples. Use `zero_division` parameter to control this behavior.\n",
      "  _warn_prf(average, modifier, msg_start, len(result))\n",
      "C:\\Users\\massi\\anaconda3\\lib\\site-packages\\sklearn\\metrics\\_classification.py:1318: UndefinedMetricWarning: Recall and F-score are ill-defined and being set to 0.0 in labels with no true samples. Use `zero_division` parameter to control this behavior.\n",
      "  _warn_prf(average, modifier, msg_start, len(result))\n",
      "C:\\Users\\massi\\anaconda3\\lib\\site-packages\\sklearn\\metrics\\_classification.py:1318: UndefinedMetricWarning: Recall and F-score are ill-defined and being set to 0.0 in labels with no true samples. Use `zero_division` parameter to control this behavior.\n",
      "  _warn_prf(average, modifier, msg_start, len(result))\n",
      "C:\\Users\\massi\\anaconda3\\lib\\site-packages\\sklearn\\metrics\\_classification.py:1318: UndefinedMetricWarning: Recall is ill-defined and being set to 0.0 in labels with no true samples. Use `zero_division` parameter to control this behavior.\n",
      "  _warn_prf(average, modifier, msg_start, len(result))\n",
      "C:\\Users\\massi\\anaconda3\\lib\\site-packages\\sklearn\\metrics\\_classification.py:1318: UndefinedMetricWarning: Recall and F-score are ill-defined and being set to 0.0 in labels with no true samples. Use `zero_division` parameter to control this behavior.\n",
      "  _warn_prf(average, modifier, msg_start, len(result))\n",
      "C:\\Users\\massi\\anaconda3\\lib\\site-packages\\sklearn\\metrics\\_classification.py:1318: UndefinedMetricWarning: Recall and F-score are ill-defined and being set to 0.0 in labels with no true samples. Use `zero_division` parameter to control this behavior.\n",
      "  _warn_prf(average, modifier, msg_start, len(result))\n",
      "C:\\Users\\massi\\anaconda3\\lib\\site-packages\\sklearn\\metrics\\_classification.py:1318: UndefinedMetricWarning: Recall and F-score are ill-defined and being set to 0.0 in labels with no true samples. Use `zero_division` parameter to control this behavior.\n",
      "  _warn_prf(average, modifier, msg_start, len(result))\n",
      "C:\\Users\\massi\\anaconda3\\lib\\site-packages\\sklearn\\metrics\\_classification.py:1318: UndefinedMetricWarning: Recall is ill-defined and being set to 0.0 in labels with no true samples. Use `zero_division` parameter to control this behavior.\n",
      "  _warn_prf(average, modifier, msg_start, len(result))\n"
     ]
    },
    {
     "name": "stdout",
     "output_type": "stream",
     "text": [
      "              precision    recall  f1-score   support\n",
      "\n",
      "           0       1.00      0.97      0.98     78269\n",
      "           1       0.82      0.96      0.89      7008\n",
      "           2       0.00      0.00      0.00         0\n",
      "           3       0.69      0.93      0.79      1123\n",
      "\n",
      "    accuracy                           0.97     86400\n",
      "   macro avg       0.63      0.71      0.66     86400\n",
      "weighted avg       0.98      0.97      0.97     86400\n",
      "\n",
      "CM:\n",
      "[[69629     0     0     0]\n",
      " [    0 13449     0     0]\n",
      " [    0     0  3021     0]\n",
      " [    0     0     0   301]]\n",
      "\n",
      "              precision    recall  f1-score   support\n",
      "\n",
      "           0       0.99      0.85      0.91     81095\n",
      "           1       0.07      0.95      0.13      1024\n",
      "           2       0.86      0.72      0.78      3577\n",
      "           3       0.96      0.41      0.58       704\n",
      "\n",
      "    accuracy                           0.84     86400\n",
      "   macro avg       0.72      0.73      0.60     86400\n",
      "weighted avg       0.97      0.84      0.89     86400\n",
      "\n",
      "CM:\n",
      "[[79011     0     0     0]\n",
      " [    0  4357     0     0]\n",
      " [    0     0   919     0]\n",
      " [    0     0     0  2113]]\n",
      "\n",
      "              precision    recall  f1-score   support\n",
      "\n",
      "           0       0.99      0.95      0.97     81755\n",
      "           1       0.00      0.00      0.00         0\n",
      "           2       0.00      0.00      0.00         0\n",
      "           3       1.00      0.45      0.62      4645\n",
      "\n",
      "    accuracy                           0.93     86400\n",
      "   macro avg       0.50      0.35      0.40     86400\n",
      "weighted avg       0.99      0.93      0.95     86400\n",
      "\n",
      "CM:\n",
      "[[67728     0     0     0]\n",
      " [    0 18504     0     0]\n",
      " [    0     0   166     0]\n",
      " [    0     0     0     2]]\n",
      "\n"
     ]
    },
    {
     "name": "stderr",
     "output_type": "stream",
     "text": [
      "C:\\Users\\massi\\anaconda3\\lib\\site-packages\\sklearn\\metrics\\_classification.py:1318: UndefinedMetricWarning: Recall and F-score are ill-defined and being set to 0.0 in labels with no true samples. Use `zero_division` parameter to control this behavior.\n",
      "  _warn_prf(average, modifier, msg_start, len(result))\n",
      "C:\\Users\\massi\\anaconda3\\lib\\site-packages\\sklearn\\metrics\\_classification.py:1318: UndefinedMetricWarning: Recall and F-score are ill-defined and being set to 0.0 in labels with no true samples. Use `zero_division` parameter to control this behavior.\n",
      "  _warn_prf(average, modifier, msg_start, len(result))\n",
      "C:\\Users\\massi\\anaconda3\\lib\\site-packages\\sklearn\\metrics\\_classification.py:1318: UndefinedMetricWarning: Recall and F-score are ill-defined and being set to 0.0 in labels with no true samples. Use `zero_division` parameter to control this behavior.\n",
      "  _warn_prf(average, modifier, msg_start, len(result))\n",
      "C:\\Users\\massi\\anaconda3\\lib\\site-packages\\sklearn\\metrics\\_classification.py:1318: UndefinedMetricWarning: Recall is ill-defined and being set to 0.0 in labels with no true samples. Use `zero_division` parameter to control this behavior.\n",
      "  _warn_prf(average, modifier, msg_start, len(result))\n",
      "C:\\Users\\massi\\anaconda3\\lib\\site-packages\\sklearn\\metrics\\_classification.py:1318: UndefinedMetricWarning: Recall and F-score are ill-defined and being set to 0.0 in labels with no true samples. Use `zero_division` parameter to control this behavior.\n",
      "  _warn_prf(average, modifier, msg_start, len(result))\n",
      "C:\\Users\\massi\\anaconda3\\lib\\site-packages\\sklearn\\metrics\\_classification.py:1318: UndefinedMetricWarning: Recall and F-score are ill-defined and being set to 0.0 in labels with no true samples. Use `zero_division` parameter to control this behavior.\n",
      "  _warn_prf(average, modifier, msg_start, len(result))\n",
      "C:\\Users\\massi\\anaconda3\\lib\\site-packages\\sklearn\\metrics\\_classification.py:1318: UndefinedMetricWarning: Recall and F-score are ill-defined and being set to 0.0 in labels with no true samples. Use `zero_division` parameter to control this behavior.\n",
      "  _warn_prf(average, modifier, msg_start, len(result))\n",
      "C:\\Users\\massi\\anaconda3\\lib\\site-packages\\sklearn\\metrics\\_classification.py:1318: UndefinedMetricWarning: Recall is ill-defined and being set to 0.0 in labels with no true samples. Use `zero_division` parameter to control this behavior.\n",
      "  _warn_prf(average, modifier, msg_start, len(result))\n",
      "C:\\Users\\massi\\anaconda3\\lib\\site-packages\\sklearn\\metrics\\_classification.py:1318: UndefinedMetricWarning: Recall and F-score are ill-defined and being set to 0.0 in labels with no true samples. Use `zero_division` parameter to control this behavior.\n",
      "  _warn_prf(average, modifier, msg_start, len(result))\n",
      "C:\\Users\\massi\\anaconda3\\lib\\site-packages\\sklearn\\metrics\\_classification.py:1318: UndefinedMetricWarning: Recall and F-score are ill-defined and being set to 0.0 in labels with no true samples. Use `zero_division` parameter to control this behavior.\n",
      "  _warn_prf(average, modifier, msg_start, len(result))\n",
      "C:\\Users\\massi\\anaconda3\\lib\\site-packages\\sklearn\\metrics\\_classification.py:1318: UndefinedMetricWarning: Recall and F-score are ill-defined and being set to 0.0 in labels with no true samples. Use `zero_division` parameter to control this behavior.\n",
      "  _warn_prf(average, modifier, msg_start, len(result))\n",
      "C:\\Users\\massi\\anaconda3\\lib\\site-packages\\sklearn\\metrics\\_classification.py:1318: UndefinedMetricWarning: Recall is ill-defined and being set to 0.0 in labels with no true samples. Use `zero_division` parameter to control this behavior.\n",
      "  _warn_prf(average, modifier, msg_start, len(result))\n"
     ]
    },
    {
     "name": "stdout",
     "output_type": "stream",
     "text": [
      "              precision    recall  f1-score   support\n",
      "\n",
      "           0       1.00      0.82      0.90     82735\n",
      "           1       0.19      0.97      0.32      3665\n",
      "           2       0.00      0.00      0.00         0\n",
      "           3       0.00      0.00      0.00         0\n",
      "\n",
      "    accuracy                           0.82     86400\n",
      "   macro avg       0.30      0.45      0.30     86400\n",
      "weighted avg       0.96      0.82      0.87     86400\n",
      "\n",
      "CM:\n",
      "[[77928     0     0     0]\n",
      " [    0  5746     0     0]\n",
      " [    0     0  2720     0]\n",
      " [    0     0     0     6]]\n",
      "\n",
      "              precision    recall  f1-score   support\n",
      "\n",
      "           0       1.00      0.94      0.97     82422\n",
      "           1       0.00      0.00      0.00         0\n",
      "           2       0.96      0.66      0.78      3978\n",
      "           3       0.00      0.00      0.00         0\n",
      "\n",
      "    accuracy                           0.93     86400\n",
      "   macro avg       0.49      0.40      0.44     86400\n",
      "weighted avg       0.99      0.93      0.96     86400\n",
      "\n",
      "CM:\n",
      "[[80317     0     0     0]\n",
      " [    0  4305     0     0]\n",
      " [    0     0   225     0]\n",
      " [    0     0     0  1553]]\n",
      "\n",
      "              precision    recall  f1-score   support\n",
      "\n",
      "           0       0.99      0.98      0.99     80956\n",
      "           1       0.72      0.96      0.82      3258\n",
      "           2       0.00      0.00      0.00         0\n",
      "           3       0.98      0.69      0.81      2186\n",
      "\n",
      "    accuracy                           0.97     86400\n",
      "   macro avg       0.67      0.66      0.66     86400\n",
      "weighted avg       0.98      0.97      0.98     86400\n",
      "\n"
     ]
    },
    {
     "name": "stderr",
     "output_type": "stream",
     "text": [
      "C:\\Users\\massi\\anaconda3\\lib\\site-packages\\sklearn\\metrics\\_classification.py:1318: UndefinedMetricWarning: Recall and F-score are ill-defined and being set to 0.0 in labels with no true samples. Use `zero_division` parameter to control this behavior.\n",
      "  _warn_prf(average, modifier, msg_start, len(result))\n",
      "C:\\Users\\massi\\anaconda3\\lib\\site-packages\\sklearn\\metrics\\_classification.py:1318: UndefinedMetricWarning: Recall and F-score are ill-defined and being set to 0.0 in labels with no true samples. Use `zero_division` parameter to control this behavior.\n",
      "  _warn_prf(average, modifier, msg_start, len(result))\n",
      "C:\\Users\\massi\\anaconda3\\lib\\site-packages\\sklearn\\metrics\\_classification.py:1318: UndefinedMetricWarning: Recall and F-score are ill-defined and being set to 0.0 in labels with no true samples. Use `zero_division` parameter to control this behavior.\n",
      "  _warn_prf(average, modifier, msg_start, len(result))\n",
      "C:\\Users\\massi\\anaconda3\\lib\\site-packages\\sklearn\\metrics\\_classification.py:1318: UndefinedMetricWarning: Recall is ill-defined and being set to 0.0 in labels with no true samples. Use `zero_division` parameter to control this behavior.\n",
      "  _warn_prf(average, modifier, msg_start, len(result))\n"
     ]
    },
    {
     "name": "stdout",
     "output_type": "stream",
     "text": [
      "CM:\n",
      "[[158639      0      0      0]\n",
      " [     0   9156      0      0]\n",
      " [     0      0   4002      0]\n",
      " [     0      0      0   1003]]\n",
      "\n",
      "              precision    recall  f1-score   support\n",
      "\n",
      "           0       0.99      0.98      0.98    160917\n",
      "           1       0.77      0.95      0.85      7444\n",
      "           2       0.70      0.77      0.73      3633\n",
      "           3       0.18      0.22      0.20       806\n",
      "\n",
      "    accuracy                           0.97    172800\n",
      "   macro avg       0.66      0.73      0.69    172800\n",
      "weighted avg       0.97      0.97      0.97    172800\n",
      "\n",
      "CM:\n",
      "[[163633      0      0      0]\n",
      " [     0   7337      0      0]\n",
      " [     0      0    793      0]\n",
      " [     0      0      0   1037]]\n",
      "\n",
      "              precision    recall  f1-score   support\n",
      "\n",
      "           0       0.99      0.97      0.98    168231\n",
      "           1       0.37      0.98      0.54      2790\n",
      "           2       0.00      0.00      0.00         0\n",
      "           3       0.97      0.57      0.72      1779\n",
      "\n",
      "    accuracy                           0.96    172800\n",
      "   macro avg       0.58      0.63      0.56    172800\n",
      "weighted avg       0.98      0.96      0.97    172800\n",
      "\n"
     ]
    },
    {
     "name": "stderr",
     "output_type": "stream",
     "text": [
      "C:\\Users\\massi\\anaconda3\\lib\\site-packages\\sklearn\\metrics\\_classification.py:1318: UndefinedMetricWarning: Recall and F-score are ill-defined and being set to 0.0 in labels with no true samples. Use `zero_division` parameter to control this behavior.\n",
      "  _warn_prf(average, modifier, msg_start, len(result))\n",
      "C:\\Users\\massi\\anaconda3\\lib\\site-packages\\sklearn\\metrics\\_classification.py:1318: UndefinedMetricWarning: Recall and F-score are ill-defined and being set to 0.0 in labels with no true samples. Use `zero_division` parameter to control this behavior.\n",
      "  _warn_prf(average, modifier, msg_start, len(result))\n",
      "C:\\Users\\massi\\anaconda3\\lib\\site-packages\\sklearn\\metrics\\_classification.py:1318: UndefinedMetricWarning: Recall and F-score are ill-defined and being set to 0.0 in labels with no true samples. Use `zero_division` parameter to control this behavior.\n",
      "  _warn_prf(average, modifier, msg_start, len(result))\n",
      "C:\\Users\\massi\\anaconda3\\lib\\site-packages\\sklearn\\metrics\\_classification.py:1318: UndefinedMetricWarning: Recall is ill-defined and being set to 0.0 in labels with no true samples. Use `zero_division` parameter to control this behavior.\n",
      "  _warn_prf(average, modifier, msg_start, len(result))\n"
     ]
    },
    {
     "name": "stdout",
     "output_type": "stream",
     "text": [
      "CM:\n",
      "[[155835      0      0      0]\n",
      " [     0   9329      0      0]\n",
      " [     0      0   5068      0]\n",
      " [     0      0      0   2568]]\n",
      "\n",
      "              precision    recall  f1-score   support\n",
      "\n",
      "           0       0.99      0.97      0.98    159922\n",
      "           1       0.68      0.98      0.80      6490\n",
      "           2       0.63      0.92      0.75      3463\n",
      "           3       0.95      0.83      0.88      2925\n",
      "\n",
      "    accuracy                           0.97    172800\n",
      "   macro avg       0.81      0.92      0.85    172800\n",
      "weighted avg       0.97      0.97      0.97    172800\n",
      "\n",
      "0    0.964450\n",
      "1    0.645307\n",
      "2    0.759895\n",
      "3    0.685143\n",
      "dtype: float64\n",
      "0    0.938961\n",
      "1    0.964717\n",
      "2    0.766190\n",
      "3    0.611808\n",
      "dtype: float64\n"
     ]
    }
   ],
   "source": [
    "def train_Kmeans(X, y, test_set_list):\n",
    "    two= int((y.values == 2).sum())\n",
    "    three= int((y.values == 3).sum())\n",
    "    undersample = RandomUnderSampler(sampling_strategy={0: 10000, 1: 10000, 2: two, 3: three})\n",
    "    X_new, y_new = undersample.fit_resample(X, y)\n",
    "    \n",
    "    clf = RandomForestClassifier(max_depth=20, n_estimators = 15, max_features=5)\n",
    "    clf.fit(X_new, y_new)\n",
    "    return clf\n",
    "\n",
    "def test_performance(test_set_list, clf):\n",
    "    f_score={}\n",
    "    recall={}\n",
    "    for i in range(len(test_set_list)):\n",
    "        y_test = test_set_list[i].Class\n",
    "        y_preds = clf.predict(test_set_list[i].drop(['DateTime','Class', 'wahing_machine', 'dishwasher', 'oven'], axis=1))\n",
    "        print(\"CM:\\n\" + str(confusion_matrix(y_preds,y_preds)) + \"\\n\")\n",
    "        print(classification_report(y_test,y_preds))\n",
    "        r = recall_score(y_test,y_preds, average= None) \n",
    "        f = f1_score(y_test,y_preds, average= None)\n",
    "        f_score[i] = f\n",
    "        recall[i] = r \n",
    "    f = pd.DataFrame.from_dict(f_score, orient='index').replace(0, np.nan)\n",
    "    print(f.mean(axis=0, skipna=True))\n",
    "    r = pd.DataFrame.from_dict(recall, orient='index').replace(0, np.nan)\n",
    "    print(r.mean(axis=0, skipna=True))\n",
    "    \n",
    "\n",
    "clf = train_Kmeans(X, y, test_set_list)\n",
    "test_performance(test_set_list, clf)"
   ]
  },
  {
   "cell_type": "markdown",
   "id": "3fe803b3",
   "metadata": {},
   "source": [
    "La PCA è stata provata per fare una nuova feature extraction, ma essendo i dati non scalati "
   ]
  },
  {
   "cell_type": "markdown",
   "id": "34545d2d",
   "metadata": {},
   "source": [
    "    X = data.iloc[:, 1:13]\n",
    "    std_scl = StandardScaler()\n",
    "    X_std = std_scl.fit_transform(X)\n",
    "\n",
    "    pca = decomposition.PCA(n_components=5)\n",
    "    X_std_pca = pca.fit_transform(X)\n",
    "    print(X_std_pca.shape)\n",
    "    X_std_pca\n",
    "    pd.concat([data, pd.DataFrame(X_std_pca)], axis=1)"
   ]
  }
 ],
 "metadata": {
  "kernelspec": {
   "display_name": "Python 3 (ipykernel)",
   "language": "python",
   "name": "python3"
  },
  "language_info": {
   "codemirror_mode": {
    "name": "ipython",
    "version": 3
   },
   "file_extension": ".py",
   "mimetype": "text/x-python",
   "name": "python",
   "nbconvert_exporter": "python",
   "pygments_lexer": "ipython3",
   "version": "3.9.12"
  }
 },
 "nbformat": 4,
 "nbformat_minor": 5
}
